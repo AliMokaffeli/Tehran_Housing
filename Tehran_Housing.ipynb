{
 "cells": [
  {
   "cell_type": "code",
   "execution_count": null,
   "id": "initial_id",
   "metadata": {
    "collapsed": true,
    "is_executing": true
   },
   "outputs": [],
   "source": [
    "import numpy as np \n",
    "import pandas as pd\n",
    "import matplotlib.pyplot as plt\n",
    "import seaborn as sns\n",
    "from sklearn.preprocessing import StandardScaler\n",
    "from sklearn.model_selection import train_test_split\n",
    "from sklearn.metrics import r2_score\n",
    "import xgboost as xgb\n",
    "import warnings\n",
    "warnings.filterwarnings('ignore')"
   ]
  },
  {
   "cell_type": "code",
   "execution_count": null,
   "outputs": [],
   "source": [
    "df = pd.read_csv('Data.csv', encoding=\"utf-8\")  \n",
    "df"
   ],
   "metadata": {
    "collapsed": false,
    "is_executing": true
   },
   "id": "201072d396273e47"
  },
  {
   "cell_type": "markdown",
   "source": [
    "## Content"
   ],
   "metadata": {
    "collapsed": false
   },
   "id": "649d02ef146a0792"
  },
  {
   "cell_type": "raw",
   "source": [
    "Dataset has 12383 records containing 9 features.\n",
    "\n"
   ],
   "metadata": {
    "collapsed": false
   },
   "id": "839f355a368978bc"
  },
  {
   "cell_type": "raw",
   "source": [
    "1 - total_value: is the overall value of the house. It is calculated based on deposit and monthly rent.\n",
    "2 - neighborhood: is filled based on the house position in Tehran.\n",
    "3 - area: is the area of house in meter.\n",
    "4 - year: is the year that the house is built.\n",
    "5 - deposit: is the deposit of house in Iran currency (Toman).\n",
    "6 - rent: is the monthly rent of house in Iran currency (Toman).\n",
    "7 - elavator: indicate that house has elavator (1 for has and 0 for dose not have).\n",
    "8 - parking: indicate that house has parking lot (1 for has and 0 for dose not have).\n",
    "9 - warehouse: indicate that house has warehouse (1 for has and 0 for dose not have)."
   ],
   "metadata": {
    "collapsed": false
   },
   "id": "ba79a2bb60af99e"
  },
  {
   "cell_type": "code",
   "execution_count": null,
   "outputs": [],
   "source": [
    "df.info()"
   ],
   "metadata": {
    "collapsed": false,
    "is_executing": true
   },
   "id": "ae1ce6fc9fd15862"
  },
  {
   "cell_type": "code",
   "execution_count": null,
   "outputs": [],
   "source": [
    "df.isnull().sum()"
   ],
   "metadata": {
    "collapsed": false,
    "is_executing": true
   },
   "id": "76f974031cad2897"
  },
  {
   "cell_type": "code",
   "execution_count": null,
   "outputs": [],
   "source": [
    "plot_columns = ['total_value' , 'area' , 'year' , 'deposit' , 'rent']\n",
    "\n",
    "# Set up the matplotlib figure with subplots\n",
    "fig, axes = plt.subplots(1, len(plot_columns), figsize=(30, 7))  # Adjust the figsize as needed\n",
    "\n",
    "# Iterate through selected columns and create histograms\n",
    "for i, column in enumerate(plot_columns):\n",
    "    df[column].plot(kind='hist', ax=axes[i], title=column )\n",
    "    axes[i].set_xlabel(column)\n",
    "\n",
    "# Adjust layout for better spacing\n",
    "plt.tight_layout()\n",
    "plt.show()"
   ],
   "metadata": {
    "collapsed": false,
    "is_executing": true
   },
   "id": "b726268f4570c42e"
  },
  {
   "cell_type": "code",
   "execution_count": null,
   "outputs": [],
   "source": [
    "plot_columns = ['elavator' , 'parking' , 'warehouse']\n",
    "\n",
    "# Set up the matplotlib figure with subplots\n",
    "fig, axes = plt.subplots(1, len(plot_columns), figsize=(20, 8))  # Adjust the figsize as needed\n",
    "\n",
    "# Iterate through selected columns and create histograms\n",
    "for i, column in enumerate(plot_columns):\n",
    "    df[column].plot(kind='hist', ax=axes[i], title=column )\n",
    "    axes[i].set_xlabel(column)\n",
    "\n",
    "# Adjust layout for better spacing\n",
    "plt.tight_layout()\n",
    "plt.show()"
   ],
   "metadata": {
    "collapsed": false,
    "is_executing": true
   },
   "id": "d19c55d3cbe04c74"
  },
  {
   "cell_type": "code",
   "execution_count": null,
   "outputs": [],
   "source": [
    "np.unique(df['warehouse'] , return_counts = True )"
   ],
   "metadata": {
    "collapsed": false,
    "is_executing": true
   },
   "id": "f2b8b6bc87966336"
  },
  {
   "cell_type": "markdown",
   "source": [
    "## Preprocessing for model"
   ],
   "metadata": {
    "collapsed": false
   },
   "id": "cb91a9db51831949"
  },
  {
   "cell_type": "code",
   "execution_count": null,
   "outputs": [],
   "source": [
    "cat_col = ['elavator' , 'parking' , 'warehouse' , 'neighborhood']\n",
    "cat_col_df = df[cat_col]\n",
    "df1 = df.drop(columns = cat_col)\n",
    "df1"
   ],
   "metadata": {
    "collapsed": false,
    "is_executing": true
   },
   "id": "41954ffad652c448"
  },
  {
   "cell_type": "code",
   "execution_count": null,
   "outputs": [],
   "source": [
    "one_hot_encoded = pd.get_dummies(cat_col_df, columns=cat_col)\n",
    "one_hot_encoded"
   ],
   "metadata": {
    "collapsed": false,
    "is_executing": true
   },
   "id": "6bf0555e41068e7a"
  },
  {
   "cell_type": "code",
   "execution_count": null,
   "outputs": [],
   "source": [
    "df2 = pd.concat([df1 , one_hot_encoded] , axis = 1)\n",
    "df2"
   ],
   "metadata": {
    "collapsed": false,
    "is_executing": true
   },
   "id": "5c94f5005dbc83ee"
  },
  {
   "cell_type": "markdown",
   "source": [
    "## Train Test Split"
   ],
   "metadata": {
    "collapsed": false
   },
   "id": "9f1ebe4ada58cedb"
  },
  {
   "cell_type": "code",
   "execution_count": null,
   "outputs": [],
   "source": [
    "df3 = np.reshape(df2 , (len(df2), -1))\n",
    "df3"
   ],
   "metadata": {
    "collapsed": false,
    "is_executing": true
   },
   "id": "68776fd8bd57a635"
  },
  {
   "cell_type": "code",
   "execution_count": null,
   "outputs": [],
   "source": [
    "X = df3.drop(columns = ['total_value'])\n",
    "y = df3['total_value']"
   ],
   "metadata": {
    "collapsed": false,
    "is_executing": true
   },
   "id": "ee57e8f00ef35e31"
  },
  {
   "cell_type": "code",
   "execution_count": null,
   "outputs": [],
   "source": [
    "X_train , X_test , y_train , y_test = train_test_split(X , y , test_size = 0.25 , random_state = 2 )"
   ],
   "metadata": {
    "collapsed": false,
    "is_executing": true
   },
   "id": "361caa1a2b0202c1"
  },
  {
   "cell_type": "markdown",
   "source": [
    "## Modeling"
   ],
   "metadata": {
    "collapsed": false
   },
   "id": "55a8b83afd6c0e2c"
  },
  {
   "cell_type": "code",
   "execution_count": null,
   "outputs": [],
   "source": [
    "reg = xgb.XGBRegressor(base_score=0.5, booster='gbtree',n_estimators=2000, early_stopping_rounds=50, objective='reg:linear', max_depth=3, learning_rate=0.01)\n",
    "reg.fit(X_train, y_train,\n",
    "        eval_set=[(X_train, y_train), (X_test, y_test)],\n",
    "        verbose=100)"
   ],
   "metadata": {
    "collapsed": false,
    "is_executing": true
   },
   "id": "3bf15ec0f4430860"
  },
  {
   "cell_type": "markdown",
   "source": [
    "## Validation"
   ],
   "metadata": {
    "collapsed": false
   },
   "id": "8ef22f01fe7ead20"
  },
  {
   "cell_type": "code",
   "execution_count": 1,
   "outputs": [
    {
     "ename": "NameError",
     "evalue": "name 'reg' is not defined",
     "output_type": "error",
     "traceback": [
      "\u001B[1;31m---------------------------------------------------------------------------\u001B[0m",
      "\u001B[1;31mNameError\u001B[0m                                 Traceback (most recent call last)",
      "Cell \u001B[1;32mIn[1], line 1\u001B[0m\n\u001B[1;32m----> 1\u001B[0m y_pre_te \u001B[38;5;241m=\u001B[39m \u001B[43mreg\u001B[49m\u001B[38;5;241m.\u001B[39mpredict(X_test)\n\u001B[0;32m      2\u001B[0m y_pre_tr \u001B[38;5;241m=\u001B[39m reg\u001B[38;5;241m.\u001B[39mpredict(X_train)\n",
      "\u001B[1;31mNameError\u001B[0m: name 'reg' is not defined"
     ]
    }
   ],
   "source": [
    "y_pre_te = reg.predict(X_test)\n",
    "y_pre_tr = reg.predict(X_train)"
   ],
   "metadata": {
    "collapsed": false,
    "ExecuteTime": {
     "end_time": "2023-12-17T14:53:20.558786400Z",
     "start_time": "2023-12-17T14:53:20.230643900Z"
    }
   },
   "id": "528f53cfcbe2da5b"
  },
  {
   "cell_type": "code",
   "execution_count": null,
   "outputs": [],
   "source": [
    "print('R2 Score for Test data = ' , r2_score(y_test , y_pre_te))\n",
    "print('R2 Score for Train data = ' , r2_score(y_train, y_pre_tr))"
   ],
   "metadata": {
    "collapsed": false,
    "ExecuteTime": {
     "start_time": "2023-12-17T14:53:20.561770500Z"
    }
   },
   "id": "b0ab013589fb09fe"
  },
  {
   "cell_type": "code",
   "execution_count": null,
   "outputs": [],
   "source": [
    "plt.subplot(211)\n",
    "plt.plot(y_pre_tr, 'b.')\n",
    "plt.plot(y_train, 'r.')\n",
    "plt.legend(['predict' , 'actual'])\n",
    "plt.title('Accuracy for train data')\n",
    "plt.subplot(212)\n",
    "plt.plot(y_pre_te, 'b.')\n",
    "plt.plot(y_test, 'r.')\n",
    "plt.show()"
   ],
   "metadata": {
    "collapsed": false,
    "ExecuteTime": {
     "start_time": "2023-12-17T14:53:20.563769600Z"
    }
   },
   "id": "884e26f80bad4e9b"
  }
 ],
 "metadata": {
  "kernelspec": {
   "display_name": "Python 3",
   "language": "python",
   "name": "python3"
  },
  "language_info": {
   "codemirror_mode": {
    "name": "ipython",
    "version": 2
   },
   "file_extension": ".py",
   "mimetype": "text/x-python",
   "name": "python",
   "nbconvert_exporter": "python",
   "pygments_lexer": "ipython2",
   "version": "2.7.6"
  }
 },
 "nbformat": 4,
 "nbformat_minor": 5
}
